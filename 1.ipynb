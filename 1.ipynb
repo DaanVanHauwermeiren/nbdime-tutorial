{
 "cells": [
  {
   "cell_type": "code",
   "execution_count": 1,
   "metadata": {
    "ExecuteTime": {
     "end_time": "2018-11-07T12:53:52.945027Z",
     "start_time": "2018-11-07T12:53:52.617262Z"
    },
    "collapsed": true
   },
   "outputs": [],
   "source": [
    "%matplotlib inline\n",
    "import matplotlib.pyplot as plt\n",
    "import numpy as np"
   ]
  },
  {
   "cell_type": "code",
   "execution_count": 2,
   "metadata": {
    "ExecuteTime": {
     "end_time": "2018-11-07T12:53:52.951171Z",
     "start_time": "2018-11-07T12:53:52.947529Z"
    },
    "collapsed": false
   },
   "outputs": [],
   "source": [
    "x = np.linspace(0, 10)\n",
    "y = x**2 + 2*x - 10"
   ]
  },
  {
   "cell_type": "code",
   "execution_count": 4,
   "metadata": {
    "ExecuteTime": {
     "end_time": "2018-11-07T14:06:48.965220Z",
     "start_time": "2018-11-07T14:06:48.958142Z"
    },
    "collapsed": false
   },
   "outputs": [
    {
     "data": {
      "text/plain": [
       "array([ -10.        ,   -9.55018742,   -9.01707622,   -8.40066639,\n",
       "         -7.70095793,   -6.91795085,   -6.05164515,   -5.10204082,\n",
       "         -4.06913786,   -2.95293628,   -1.75343607,   -0.47063723,\n",
       "          0.89546022,    2.34485631,    3.87755102,    5.49354436,\n",
       "          7.19283632,    8.97542691,   10.84131612,   12.79050396,\n",
       "         14.82299042,   16.93877551,   19.13785923,   21.42024157,\n",
       "         23.78592253,   26.23490212,   28.76718034,   31.38275718,\n",
       "         34.08163265,   36.86380675,   39.72927947,   42.67805081,\n",
       "         45.71012078,   48.82548938,   52.0241566 ,   55.30612245,\n",
       "         58.67138692,   62.11995002,   65.65181175,   69.26697209,\n",
       "         72.96543107,   76.74718867,   80.6122449 ,   84.56059975,\n",
       "         88.59225323,   92.70720533,   96.90545606,  101.18700541,\n",
       "        105.55185339,  110.        ])"
      ]
     },
     "execution_count": 4,
     "metadata": {},
     "output_type": "execute_result"
    }
   ],
   "source": [
    "y"
   ]
  },
  {
   "cell_type": "code",
   "execution_count": 3,
   "metadata": {
    "ExecuteTime": {
     "end_time": "2018-11-07T12:53:53.265440Z",
     "start_time": "2018-11-07T12:53:52.953929Z"
    },
    "collapsed": false
   },
   "outputs": [
    {
     "data": {
      "text/plain": [
       "[<matplotlib.lines.Line2D at 0x7fab2e1244e0>]"
      ]
     },
     "execution_count": 3,
     "metadata": {},
     "output_type": "execute_result"
    },
    {
     "data": {
      "image/png": "[encoded data removed]",
      "text/plain": [
       "<matplotlib.figure.Figure at 0x7fab58022588>"
      ]
     },
     "metadata": {},
     "output_type": "display_data"
    }
   ],
   "source": [
    "plt.plot(x, y)"
   ]
  },
  {
   "cell_type": "code",
   "execution_count": null,
   "metadata": {
    "collapsed": true
   },
   "outputs": [],
   "source": []
  },
  {
   "cell_type": "code",
   "execution_count": null,
   "metadata": {
    "collapsed": true
   },
   "outputs": [],
   "source": []
  }
 ],
 "metadata": {
  "anaconda-cloud": {},
  "kernelspec": {
   "display_name": "Python [conda env:PBM_python36]",
   "language": "python",
   "name": "conda-env-PBM_python36-py"
  },
  "language_info": {
   "codemirror_mode": {
    "name": "ipython",
    "version": 3
   },
   "file_extension": ".py",
   "mimetype": "text/x-python",
   "name": "python",
   "nbconvert_exporter": "python",
   "pygments_lexer": "ipython3",
   "version": "3.6.4"
  }
 },
 "nbformat": 4,
 "nbformat_minor": 2
}
